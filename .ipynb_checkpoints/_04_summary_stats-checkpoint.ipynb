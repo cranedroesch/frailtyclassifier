{
 "cells": [
  {
   "cell_type": "markdown",
   "metadata": {},
   "source": [
    "# Frailty Classifier:  Summary stats\n",
    "\n",
    "This notebook provides an overview of the datasets comprising the frailty classifier project.  It's intended to be a living document -- things can be added and altered as needed."
   ]
  },
  {
   "cell_type": "markdown",
   "metadata": {
    "collapsed": true,
    "pycharm": {
     "is_executing": false
    }
   },
   "source": [
    "This notebook provides basic summary stats on the data for the frailty classifier project.  It'll start with data on the population, and move into data on the notes.\n",
    "\n",
    "Begin with imports and preliminaries:"
   ]
  },
  {
   "cell_type": "code",
   "execution_count": 2,
   "metadata": {},
   "outputs": [],
   "source": [
    "import pandas as pd\n",
    "import matplotlib.pyplot as plt\n",
    "from scipy.stats import gaussian_kde\n",
    "import numpy as np\n",
    "import re\n",
    "import geopandas as gpd\n",
    "import os\n",
    "\n",
    "datadir = \"/Users/crandrew/projects/GW_PAIR_frailty_classifier/data/\"\n",
    "figdir = \"/Users/crandrew/projects/GW_PAIR_frailty_classifier/figures/\"\n",
    "gisdir = \"/Users/crandrew/shapefiles/\"\n",
    "\n",
    "# preferences\n",
    "pd.options.display.max_rows = 4000\n",
    "pd.options.display.max_columns = 4000\n",
    "\n",
    "# load \"znotes\" -- the notes metadata\n",
    "znotes = pd.read_csv(f\"{datadir}notes_metadata_2018.csv\")\n",
    "znotes['ENTRY_TIME'] = pd.to_datetime(znotes['ENTRY_TIME'])\n",
    "znotes = znotes[znotes['ENTRY_TIME'].dt.year >= 2018]"
   ]
  },
  {
   "cell_type": "markdown",
   "metadata": {},
   "source": [
    "The data frame `znotes` contains information on CSN's that have associated notes, but not the actual note.  That's stored elsewhere, and will be explored below.  I'll go through the relevant columns of `znotes` and plot or tabulate relevant summary stats."
   ]
  },
  {
   "cell_type": "code",
   "execution_count": 10,
   "metadata": {},
   "outputs": [
    {
     "data": {
      "text/plain": [
       "Index(['Unnamed: 0', 'PAT_ENC_CSN_ID', 'NOTE_SERIAL_NUM', 'IP_NOTE_TYPE',\n",
       "       'NOTE_ENTRY_TIME', 'NOTE_ID', 'CONTACT_NUM', 'MRN', 'PAT_ID',\n",
       "       'EFFECTIVE_DATE_DTTM', 'ENTRY_TIME', 'AGE', 'ADMSN_TYPE',\n",
       "       'PATIENT_CLASS', 'UNIT', 'DEPARTMENT_NAME', 'EXTERNAL_NAME',\n",
       "       'SPECIALTY', 'LOCATION_ABBR', 'SEX', 'MARITAL_STATUS', 'RELIGION',\n",
       "       'EMPY_STAT', 'RACE', 'ETHNICITY', 'LANGUAGE', 'COUNTY', 'ZIP',\n",
       "       'ENCOUNTER_TYPE', 'dxcount', 'dxvec', 'highprob', 'lowprob'],\n",
       "      dtype='object')"
      ]
     },
     "execution_count": 10,
     "metadata": {},
     "output_type": "execute_result"
    }
   ],
   "source": [
    "znotes.columns"
   ]
  },
  {
   "cell_type": "code",
   "execution_count": 13,
   "metadata": {},
   "outputs": [
    {
     "data": {
      "text/plain": [
       "array(['Progress Notes'], dtype=object)"
      ]
     },
     "execution_count": 13,
     "metadata": {},
     "output_type": "execute_result"
    }
   ],
   "source": [
    "# note types...\n",
    "znotes.IP_NOTE_TYPE.unique()"
   ]
  },
  {
   "cell_type": "markdown",
   "metadata": {},
   "source": [
    "They are all progress notes.  Entry time has been covered elsewhere, as has age.  Let's look at admission type:"
   ]
  },
  {
   "cell_type": "code",
   "execution_count": 17,
   "metadata": {},
   "outputs": [
    {
     "name": "stdout",
     "output_type": "stream",
     "text": [
      "Routine Elective Admission    38139\n",
      "Name: ADMSN_TYPE, dtype: int64\n",
      "(73366, 33)\n"
     ]
    }
   ],
   "source": [
    "print(znotes.ADMSN_TYPE.value_counts())\n",
    "print(znotes.shape)"
   ]
  },
  {
   "cell_type": "markdown",
   "metadata": {},
   "source": [
    "So, they're all either routine elective admissions, or null."
   ]
  },
  {
   "cell_type": "code",
   "execution_count": 19,
   "metadata": {},
   "outputs": [
    {
     "name": "stdout",
     "output_type": "stream",
     "text": [
      "MAPS           37785\n",
      "Outpatient       388\n",
      "Emergency          1\n",
      "Day Surgery        1\n",
      "Name: PATIENT_CLASS, dtype: int64\n"
     ]
    }
   ],
   "source": [
    "print(znotes.PATIENT_CLASS.value_counts())"
   ]
  },
  {
   "cell_type": "markdown",
   "metadata": {},
   "source": [
    "Mostly \"MAPS\", or Null (recall that there are 73K notes).  No idea what \"MAPS\" is.  I've asked the DS folks and they don't either.  Let's look at its overlap with a few factors related to the encounter:"
   ]
  },
  {
   "cell_type": "code",
   "execution_count": 25,
   "metadata": {},
   "outputs": [
    {
     "data": {
      "text/html": [
       "<div>\n",
       "<style scoped>\n",
       "    .dataframe tbody tr th:only-of-type {\n",
       "        vertical-align: middle;\n",
       "    }\n",
       "\n",
       "    .dataframe tbody tr th {\n",
       "        vertical-align: top;\n",
       "    }\n",
       "\n",
       "    .dataframe thead th {\n",
       "        text-align: right;\n",
       "    }\n",
       "</style>\n",
       "<table border=\"1\" class=\"dataframe\">\n",
       "  <thead>\n",
       "    <tr style=\"text-align: right;\">\n",
       "      <th></th>\n",
       "      <th>ADMSN_TYPE</th>\n",
       "      <th>SPECIALTY</th>\n",
       "      <th>LOCATION_ABBR</th>\n",
       "      <th>ENCOUNTER_TYPE</th>\n",
       "    </tr>\n",
       "  </thead>\n",
       "  <tbody>\n",
       "    <tr>\n",
       "      <th>count</th>\n",
       "      <td>37783</td>\n",
       "      <td>37785</td>\n",
       "      <td>37785</td>\n",
       "      <td>37785</td>\n",
       "    </tr>\n",
       "    <tr>\n",
       "      <th>unique</th>\n",
       "      <td>1</td>\n",
       "      <td>4</td>\n",
       "      <td>8</td>\n",
       "      <td>2</td>\n",
       "    </tr>\n",
       "    <tr>\n",
       "      <th>top</th>\n",
       "      <td>Routine Elective Admission</td>\n",
       "      <td>Pulmonary</td>\n",
       "      <td>PCAM</td>\n",
       "      <td>Office Visit</td>\n",
       "    </tr>\n",
       "    <tr>\n",
       "      <th>freq</th>\n",
       "      <td>37783</td>\n",
       "      <td>21873</td>\n",
       "      <td>14643</td>\n",
       "      <td>37692</td>\n",
       "    </tr>\n",
       "  </tbody>\n",
       "</table>\n",
       "</div>"
      ],
      "text/plain": [
       "                        ADMSN_TYPE  SPECIALTY LOCATION_ABBR ENCOUNTER_TYPE\n",
       "count                        37783      37785         37785          37785\n",
       "unique                           1          4             8              2\n",
       "top     Routine Elective Admission  Pulmonary          PCAM   Office Visit\n",
       "freq                         37783      21873         14643          37692"
      ]
     },
     "execution_count": 25,
     "metadata": {},
     "output_type": "execute_result"
    }
   ],
   "source": [
    "znotes[znotes.PATIENT_CLASS == \"MAPS\"][['ADMSN_TYPE', \"SPECIALTY\", \"LOCATION_ABBR\", \"ENCOUNTER_TYPE\"]].describe()\n"
   ]
  },
  {
   "cell_type": "code",
   "execution_count": 24,
   "metadata": {},
   "outputs": [
    {
     "data": {
      "text/html": [
       "<div>\n",
       "<style scoped>\n",
       "    .dataframe tbody tr th:only-of-type {\n",
       "        vertical-align: middle;\n",
       "    }\n",
       "\n",
       "    .dataframe tbody tr th {\n",
       "        vertical-align: top;\n",
       "    }\n",
       "\n",
       "    .dataframe thead th {\n",
       "        text-align: right;\n",
       "    }\n",
       "</style>\n",
       "<table border=\"1\" class=\"dataframe\">\n",
       "  <thead>\n",
       "    <tr style=\"text-align: right;\">\n",
       "      <th></th>\n",
       "      <th>ADMSN_TYPE</th>\n",
       "      <th>SPECIALTY</th>\n",
       "      <th>LOCATION_ABBR</th>\n",
       "      <th>ENCOUNTER_TYPE</th>\n",
       "    </tr>\n",
       "  </thead>\n",
       "  <tbody>\n",
       "    <tr>\n",
       "      <th>count</th>\n",
       "      <td>356</td>\n",
       "      <td>35581</td>\n",
       "      <td>35581</td>\n",
       "      <td>35581</td>\n",
       "    </tr>\n",
       "    <tr>\n",
       "      <th>unique</th>\n",
       "      <td>1</td>\n",
       "      <td>4</td>\n",
       "      <td>55</td>\n",
       "      <td>2</td>\n",
       "    </tr>\n",
       "    <tr>\n",
       "      <th>top</th>\n",
       "      <td>Routine Elective Admission</td>\n",
       "      <td>Internal Medicine</td>\n",
       "      <td>PMWSW</td>\n",
       "      <td>Office Visit</td>\n",
       "    </tr>\n",
       "    <tr>\n",
       "      <th>freq</th>\n",
       "      <td>356</td>\n",
       "      <td>21142</td>\n",
       "      <td>3610</td>\n",
       "      <td>35430</td>\n",
       "    </tr>\n",
       "  </tbody>\n",
       "</table>\n",
       "</div>"
      ],
      "text/plain": [
       "                        ADMSN_TYPE          SPECIALTY LOCATION_ABBR  \\\n",
       "count                          356              35581         35581   \n",
       "unique                           1                  4            55   \n",
       "top     Routine Elective Admission  Internal Medicine         PMWSW   \n",
       "freq                           356              21142          3610   \n",
       "\n",
       "       ENCOUNTER_TYPE  \n",
       "count           35581  \n",
       "unique              2  \n",
       "top      Office Visit  \n",
       "freq            35430  "
      ]
     },
     "execution_count": 24,
     "metadata": {},
     "output_type": "execute_result"
    }
   ],
   "source": [
    "znotes[znotes.PATIENT_CLASS != \"MAPS\"][['ADMSN_TYPE', \"SPECIALTY\", \"LOCATION_ABBR\", \"ENCOUNTER_TYPE\"]].describe()\n"
   ]
  },
  {
   "cell_type": "code",
   "execution_count": 26,
   "metadata": {},
   "outputs": [
    {
     "data": {
      "text/plain": [
       "Pulmonary            21873\n",
       "Internal Medicine    10285\n",
       "Family Practice       4294\n",
       "Gerontology           1333\n",
       "Name: SPECIALTY, dtype: int64"
      ]
     },
     "execution_count": 26,
     "metadata": {},
     "output_type": "execute_result"
    }
   ],
   "source": [
    "znotes[znotes.PATIENT_CLASS == \"MAPS\"].SPECIALTY.value_counts()"
   ]
  },
  {
   "cell_type": "code",
   "execution_count": 27,
   "metadata": {},
   "outputs": [
    {
     "data": {
      "text/plain": [
       "Internal Medicine    21142\n",
       "Family Practice       9094\n",
       "Pulmonary             4877\n",
       "Gerontology            468\n",
       "Name: SPECIALTY, dtype: int64"
      ]
     },
     "execution_count": 27,
     "metadata": {},
     "output_type": "execute_result"
    }
   ],
   "source": [
    "znotes[znotes.PATIENT_CLASS != \"MAPS\"].SPECIALTY.value_counts()"
   ]
  },
  {
   "cell_type": "code",
   "execution_count": 28,
   "metadata": {},
   "outputs": [
    {
     "data": {
      "text/plain": [
       "Office Visit    37692\n",
       "Appointment        93\n",
       "Name: ENCOUNTER_TYPE, dtype: int64"
      ]
     },
     "execution_count": 28,
     "metadata": {},
     "output_type": "execute_result"
    }
   ],
   "source": [
    "znotes[znotes.PATIENT_CLASS == \"MAPS\"].ENCOUNTER_TYPE.value_counts()"
   ]
  },
  {
   "cell_type": "code",
   "execution_count": 29,
   "metadata": {},
   "outputs": [
    {
     "data": {
      "text/plain": [
       "Office Visit    35430\n",
       "Appointment       151\n",
       "Name: ENCOUNTER_TYPE, dtype: int64"
      ]
     },
     "execution_count": 29,
     "metadata": {},
     "output_type": "execute_result"
    }
   ],
   "source": [
    "znotes[znotes.PATIENT_CLASS != \"MAPS\"].ENCOUNTER_TYPE.value_counts()"
   ]
  },
  {
   "cell_type": "markdown",
   "metadata": {},
   "source": [
    "We've learned that the \"MAPS\" category is associated with Pulmonary office visits, at fewer locations, and non-MAPS are IM office visits at more locations.  The \"Routine Elective Admission\" type is all MAPS."
   ]
  },
  {
   "cell_type": "code",
   "execution_count": 30,
   "metadata": {},
   "outputs": [
    {
     "data": {
      "text/plain": [
       "(array([3.0066e+04, 2.4340e+04, 1.1508e+04, 4.7910e+03, 1.7440e+03,\n",
       "        6.1500e+02, 2.1400e+02, 6.0000e+01, 1.0000e+01, 1.8000e+01]),\n",
       " array([  0. ,  26.8,  53.6,  80.4, 107.2, 134. , 160.8, 187.6, 214.4,\n",
       "        241.2, 268. ]),\n",
       " <a list of 10 Patch objects>)"
      ]
     },
     "execution_count": 30,
     "metadata": {},
     "output_type": "execute_result"
    },
    {
     "data": {
      "image/png": "[encoded data removed]",
      "text/plain": [
       "<Figure size 432x288 with 1 Axes>"
      ]
     },
     "metadata": {
      "needs_background": "light"
     },
     "output_type": "display_data"
    }
   ],
   "source": [
    "plt.hist(znotes.dxcount)"
   ]
  },
  {
   "cell_type": "code",
   "execution_count": null,
   "metadata": {},
   "outputs": [],
   "source": []
  }
 ],
 "metadata": {
  "kernelspec": {
   "display_name": "Python 3",
   "language": "python",
   "name": "python3"
  },
  "language_info": {
   "codemirror_mode": {
    "name": "ipython",
    "version": 3
   },
   "file_extension": ".py",
   "mimetype": "text/x-python",
   "name": "python",
   "nbconvert_exporter": "python",
   "pygments_lexer": "ipython3",
   "version": "3.7.5"
  },
  "pycharm": {
   "stem_cell": {
    "cell_type": "raw",
    "metadata": {
     "collapsed": false
    },
    "source": []
   }
  }
 },
 "nbformat": 4,
 "nbformat_minor": 1
}
